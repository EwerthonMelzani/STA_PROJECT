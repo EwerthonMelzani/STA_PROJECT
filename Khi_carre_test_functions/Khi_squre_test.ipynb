{
 "cells": [
  {
   "cell_type": "code",
   "execution_count": 1,
   "id": "69ea3489",
   "metadata": {},
   "outputs": [],
   "source": [
    "import numpy as np\n",
    "import pandas as pd"
   ]
  },
  {
   "cell_type": "code",
   "execution_count": 84,
   "id": "e799e54e",
   "metadata": {},
   "outputs": [],
   "source": [
    "data = {\n",
    "    'Categoria A': [10, 20, 30, 40,2],\n",
    "    'Categoria B': [6, 9, 17, 29,4],\n",
    "    'Categoria C': [12, 15, 22, 31,4],\n",
    "    'Categoria D': [12, 15, 22, 31,3]\n",
    "}\n",
    "index = ['Grupo 1', 'Grupo 2', 'Grupo 3', 'Grupo 4','Grupo 5']\n",
    "df = pd.DataFrame(data, index=index)"
   ]
  },
  {
   "cell_type": "code",
   "execution_count": 85,
   "id": "4da76459",
   "metadata": {},
   "outputs": [
    {
     "name": "stdout",
     "output_type": "stream",
     "text": [
      "         Categoria A  Categoria B  Categoria C  Categoria D\n",
      "Grupo 1           10            6           12           12\n",
      "Grupo 2           20            9           15           15\n",
      "Grupo 3           30           17           22           22\n",
      "Grupo 4           40           29           31           31\n",
      "Grupo 5            2            4            4            3\n"
     ]
    }
   ],
   "source": [
    "print(df)"
   ]
  },
  {
   "cell_type": "code",
   "execution_count": 63,
   "id": "df21cf39",
   "metadata": {},
   "outputs": [],
   "source": [
    "def test_du_khi_carre(effective_observe,effective_theorique):\n",
    "    list_khi_value=[]\n",
    "    soma=0\n",
    "    if effective_observe.ndim==1:\n",
    "        for i in range(0,effective_observe.size,1):\n",
    "            soma = soma + ((effective_observe[i]-effective_theorique[i])**2)/effective_observe[i]\n",
    "    elif effective_observe.ndim==2:\n",
    "        for i in range(0,effective_theorique.shape[0],1):\n",
    "            for j in range(0,effective_theorique.shape[1],1):\n",
    "                soma = soma + ((effective_observe[i][j]-effective_theorique[i][j])**2)/effective_observe[i][j]\n",
    "        \n",
    "    else:\n",
    "        print(\"Return 0 , but this fonction is no defined yet\")\n",
    "        \n",
    "    list_khi_value.append(soma)\n",
    "    \n",
    "    return list_khi_value"
   ]
  },
  {
   "cell_type": "code",
   "execution_count": 65,
   "id": "dea7ce2e",
   "metadata": {},
   "outputs": [
    {
     "data": {
      "text/plain": [
       "0.5"
      ]
     },
     "execution_count": 65,
     "metadata": {},
     "output_type": "execute_result"
    }
   ],
   "source": [
    "vetor3 = np.array([[1,2,3],[1,2,3]])\n",
    "vetor4 = np.array([[1,3,3],[1,2,3]])\n",
    "\n",
    "test_du_khi_carre(vetor3,vetor4)[0]"
   ]
  },
  {
   "cell_type": "code",
   "execution_count": 41,
   "id": "ca966d22",
   "metadata": {},
   "outputs": [
    {
     "name": "stdout",
     "output_type": "stream",
     "text": [
      "1\n",
      "2\n",
      "3\n",
      "1\n",
      "2\n",
      "3\n"
     ]
    }
   ],
   "source": [
    "vetor3 = np.array([[1,2,3],[1,2,3]])\n",
    "vetor3.ndim\n",
    "vetor3.shape\n",
    "for i in range(vetor3.shape[0]):\n",
    "    for j in range(vetor3.shape[1]):\n",
    "        print(vetor3[i][j])"
   ]
  }
 ],
 "metadata": {
  "kernelspec": {
   "display_name": "Python 3 (ipykernel)",
   "language": "python",
   "name": "python3"
  },
  "language_info": {
   "codemirror_mode": {
    "name": "ipython",
    "version": 3
   },
   "file_extension": ".py",
   "mimetype": "text/x-python",
   "name": "python",
   "nbconvert_exporter": "python",
   "pygments_lexer": "ipython3",
   "version": "3.11.4"
  }
 },
 "nbformat": 4,
 "nbformat_minor": 5
}
