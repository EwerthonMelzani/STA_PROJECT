{
 "cells": [
  {
   "cell_type": "code",
   "execution_count": 1,
   "id": "03861043",
   "metadata": {},
   "outputs": [],
   "source": [
    "import numpy as np\n",
    "import pandas as pd"
   ]
  },
  {
   "cell_type": "markdown",
   "id": "4ca57d87",
   "metadata": {},
   "source": [
    "# DISCRETE LAWS"
   ]
  },
  {
   "cell_type": "markdown",
   "id": "143144da",
   "metadata": {},
   "source": [
    "## Binomial\n",
    "\n",
    "The Binomial is a discrete Law which receives a first parameter that gets the number of times that we gonna produce the experiment $n \\in N$ and the second one $p$ between $[0,1]$ which indicates the probability of the sucess in the event\n",
    "\n",
    "\n",
    "We will call from this moment the distribuition that have a Bernoulli distribution as the following\n",
    "\n",
    "\n",
    "$ X_i \\leadsto Binomiale(n,p) $\n",
    "\n",
    "\n",
    "$X_i \\leadsto Bin(n,p)$\n",
    "\n",
    "\n",
    "With the following formula: $P_{X_i}(X=k)= \\binom{n}{k} p^{k}(1-p)^{n-k}$\n",
    "\n",
    "\n",
    "The meaning of k in this expression is the number of times that the event with probability $p$ ocurred , we consider all the sequences using the binomial $\\theta$.\n",
    "\n",
    "Let's deduce some fundamental conceps about this Law:"
   ]
  },
  {
   "cell_type": "code",
   "execution_count": null,
   "id": "3a41e4da",
   "metadata": {},
   "outputs": [],
   "source": [
    "def Binomial(n,parameter,k):\n",
    "    probabilite=1-parameter\n",
    "    if k==0:\n",
    "        probabilite = 1\n",
    "    elif k>=1:\n",
    "        probabilite = probabilite**(k-1)\n",
    "        \n",
    "        \n",
    "    probabilite = probabilite*parameter\n",
    "    \n",
    "    return probabilite"
   ]
  }
 ],
 "metadata": {
  "kernelspec": {
   "display_name": "Python 3 (ipykernel)",
   "language": "python",
   "name": "python3"
  },
  "language_info": {
   "codemirror_mode": {
    "name": "ipython",
    "version": 3
   },
   "file_extension": ".py",
   "mimetype": "text/x-python",
   "name": "python",
   "nbconvert_exporter": "python",
   "pygments_lexer": "ipython3",
   "version": "3.11.4"
  }
 },
 "nbformat": 4,
 "nbformat_minor": 5
}
