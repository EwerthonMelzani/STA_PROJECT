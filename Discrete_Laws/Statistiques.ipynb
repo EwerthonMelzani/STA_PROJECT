{
 "cells": [
  {
   "cell_type": "code",
   "execution_count": 1,
   "id": "ee2e6179",
   "metadata": {},
   "outputs": [],
   "source": [
    "import numpy as np\n",
    "import pandas as pd"
   ]
  },
  {
   "cell_type": "markdown",
   "id": "b7e382a9",
   "metadata": {},
   "source": [
    "# DISCRETE LAWS"
   ]
  },
  {
   "cell_type": "markdown",
   "id": "b53a87c0",
   "metadata": {},
   "source": [
    "## Bernoulli\n",
    "\n",
    "The Bernoulli is a discrete Law that gets a parameter $\\theta$ between $[0,1]$\n",
    "\n",
    "\n",
    "With the following formula: $P_{\\theta}(X=k)= \\theta*(1-\\theta)^{k-1}$\n",
    "\n",
    "\n",
    "The meaning of k in this expression is the minimum of times that the event need to happens to reach the point where the result of the event is the one with probabilite $\\theta$.\n",
    "\n",
    "Let's deduce some fundamental conceps about this Law:"
   ]
  },
  {
   "cell_type": "code",
   "execution_count": 26,
   "id": "a87590d8",
   "metadata": {},
   "outputs": [],
   "source": [
    "def Bernoulli(parameter,k):\n",
    "    probabilite=1-parameter\n",
    "    if k==0:\n",
    "        probabilite = 1\n",
    "    elif k>=1:\n",
    "        probabilite = probabilite**(k-1)\n",
    "        \n",
    "        \n",
    "    probabilite = probabilite*parameter\n",
    "    \n",
    "    return probabilite"
   ]
  },
  {
   "cell_type": "code",
   "execution_count": 34,
   "id": "28739507",
   "metadata": {},
   "outputs": [],
   "source": [
    "def Bernoulli_accumulated_probability(parameter,k):\n",
    "    soma=0\n",
    "    for i in range(1,k+1,1):\n",
    "        soma = soma + Bernoulli(parameter,i)\n",
    "    return soma"
   ]
  },
  {
   "cell_type": "markdown",
   "id": "7974d3fa",
   "metadata": {},
   "source": [
    "### Some  Bernoulli estimators\n",
    "\n",
    "The first estimators of the momentum de first order will be the following:\n",
    "$\\mu_{1}(1) = \\overline{X_n}$\n",
    "\n",
    "#### Estimators List: \n",
    "\n",
    "\n",
    "$\\mu_{1}(1) = \\frac{1}{\\overline{X_n}}$\n",
    "\n",
    "\n"
   ]
  },
  {
   "cell_type": "code",
   "execution_count": null,
   "id": "0f7f1b0c",
   "metadata": {},
   "outputs": [],
   "source": []
  }
 ],
 "metadata": {
  "kernelspec": {
   "display_name": "Python 3 (ipykernel)",
   "language": "python",
   "name": "python3"
  },
  "language_info": {
   "codemirror_mode": {
    "name": "ipython",
    "version": 3
   },
   "file_extension": ".py",
   "mimetype": "text/x-python",
   "name": "python",
   "nbconvert_exporter": "python",
   "pygments_lexer": "ipython3",
   "version": "3.11.4"
  }
 },
 "nbformat": 4,
 "nbformat_minor": 5
}
